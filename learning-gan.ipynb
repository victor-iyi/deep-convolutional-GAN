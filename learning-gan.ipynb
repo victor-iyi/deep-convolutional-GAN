{
 "cells": [
  {
   "cell_type": "markdown",
   "metadata": {
    "deletable": true,
    "editable": true
   },
   "source": [
    "# Learning `Deep Convolutional GAN`"
   ]
  },
  {
   "cell_type": "code",
   "execution_count": 1,
   "metadata": {
    "collapsed": true,
    "deletable": true,
    "editable": true
   },
   "outputs": [],
   "source": [
    "import os\n",
    "import sys\n",
    "\n",
    "import datetime as dt\n",
    "\n",
    "import numpy as np\n",
    "import tensorflow as tf\n",
    "\n",
    "import matplotlib.pyplot as plt\n",
    "%matplotlib inline"
   ]
  },
  {
   "cell_type": "code",
   "execution_count": 2,
   "metadata": {
    "collapsed": false
   },
   "outputs": [
    {
     "name": "stdout",
     "output_type": "stream",
     "text": [
      "Extracting data/MNIST/train-images-idx3-ubyte.gz\n",
      "Extracting data/MNIST/train-labels-idx1-ubyte.gz\n",
      "Extracting data/MNIST/t10k-images-idx3-ubyte.gz\n",
      "Extracting data/MNIST/t10k-labels-idx1-ubyte.gz\n"
     ]
    }
   ],
   "source": [
    "from tensorflow.examples.tutorials.mnist import input_data\n",
    "data = input_data.read_data_sets('data/MNIST', one_hot=True)"
   ]
  },
  {
   "cell_type": "markdown",
   "metadata": {},
   "source": [
    "### Plot a random image"
   ]
  },
  {
   "cell_type": "code",
   "execution_count": 3,
   "metadata": {
    "collapsed": false
   },
   "outputs": [
    {
     "data": {
      "text/plain": [
       "<matplotlib.image.AxesImage at 0x11a0dbf28>"
      ]
     },
     "execution_count": 3,
     "metadata": {},
     "output_type": "execute_result"
    },
    {
     "data": {
      "image/png": "[encoded data removed]",
      "text/plain": [
       "<matplotlib.figure.Figure at 0x116e66fd0>"
      ]
     },
     "metadata": {},
     "output_type": "display_data"
    }
   ],
   "source": [
    "sample_image = data.train.images[3]\n",
    "sample_image = sample_image.reshape([28, 28])\n",
    "plt.imshow(sample_image, cmap='Greys', interpolation='bicubic')"
   ]
  },
  {
   "cell_type": "markdown",
   "metadata": {},
   "source": [
    "## Hyperparams"
   ]
  },
  {
   "cell_type": "code",
   "execution_count": 4,
   "metadata": {
    "collapsed": true
   },
   "outputs": [],
   "source": [
    "# Inputs\n",
    "img_size = 28\n",
    "img_channel = 1\n",
    "\n",
    "# Network\n",
    "conv_filter = 5\n",
    "deconv_filter = 3\n",
    "strides = [1, 2, 2, 1]\n",
    "conv_1 = 16\n",
    "conv_2 = 32\n",
    "fc_1_size = 1024\n",
    "fc_2_size = 1\n",
    "\n",
    "# Training\n",
    "learning_rate = 1e-3\n",
    "batch_size = 32"
   ]
  },
  {
   "cell_type": "markdown",
   "metadata": {},
   "source": [
    "## Building the Network"
   ]
  },
  {
   "cell_type": "markdown",
   "metadata": {},
   "source": [
    "### Helper functions"
   ]
  },
  {
   "cell_type": "code",
   "execution_count": 5,
   "metadata": {
    "collapsed": true
   },
   "outputs": [],
   "source": [
    "# Weight initializer\n",
    "def weight(shape, layer_name):\n",
    "    return tf.get_variable(layer_name, shape, initializer=tf.truncated_normal_initializer(stddev=0.2))\n",
    "\n",
    "# Bias initializer\n",
    "def bias(shape, layer_name):\n",
    "    return tf.get_variable(layer_name, [shape], initializer=tf.constant_initializer(0))\n",
    "\n",
    "# Convolutional block\n",
    "def conv_block(layer, W, b):\n",
    "    layer = tf.nn.conv2d(layer, W, strides=[1, 1, 1, 1], padding='SAME')\n",
    "    layer = layer + b  # add bias\n",
    "    layer = tf.nn.relu(layer)\n",
    "    layer = tf.nn.max_pool(layer, ksize=[1, 2, 2, 1], strides=[1, 2, 2, 1], padding='SAME')\n",
    "    return layer\n",
    "\n",
    "# Deconvolutional block\n",
    "def deconv_block(layer, W, b, activation_fn=tf.nn.relu, batch_norm=None):\n",
    "    layer = tf.nn.conv2d(layer, W, strides=[1, 2, 2, 1], padding='SAME')\n",
    "    layer = layer + b\n",
    "    if batch_norm:\n",
    "        layer = tf.contrib.layers.batch_norm(layer, epsilon=1e-5, scope=batch_norm)\n",
    "    layer = activation_fn(layer)\n",
    "    return layer\n",
    "\n",
    "# Fully connected layer\n",
    "def fully_connected(layer, W, b, use_relu=True):\n",
    "    layer = tf.matmul(layer, W) + b\n",
    "    if use_relu:\n",
    "        layer = tf.nn.relu(layer)\n",
    "    return layer\n",
    "\n",
    "# Flatten layer\n",
    "def flatten(layer):\n",
    "    shape = layer.get_shape()\n",
    "    features = np.array(shape[1:4], dtype=np.int32).prod()\n",
    "    flattened = tf.reshape(layer, [-1, features])\n",
    "    return flattened, features"
   ]
  },
  {
   "cell_type": "markdown",
   "metadata": {},
   "source": [
    "### Discriminator `(Deep Convolutional neural net)`"
   ]
  },
  {
   "cell_type": "code",
   "execution_count": 6,
   "metadata": {
    "collapsed": true
   },
   "outputs": [],
   "source": [
    "def discriminator(image, reuse=None):\n",
    "    with tf.variable_scope(tf.get_variable_scope(), reuse=reuse) as scope:\n",
    "        # 1st convolutional block\n",
    "        d_conv_W1 = weight(shape=[conv_filter, conv_filter, img_channel, conv_1], layer_name='d_conv_W1')\n",
    "        d_conv_b1 = bias(shape=conv_1, layer_name='d_conv_b1')\n",
    "        d_conv_1 = conv_block(image, d_conv_W1, d_conv_b1)\n",
    "        # 2nd convolutional block\n",
    "        d_conv_W2 = weight(shape=[conv_filter, conv_filter, conv_1, conv_2], layer_name='d_conv_W2')\n",
    "        d_conv_b2 = bias(shape=conv_2, layer_name='d_conv_b2')\n",
    "        d_conv_2 = conv_block(d_conv_1, d_conv_W2, d_conv_b2)\n",
    "        # Flatten layer\n",
    "        flattened, features = flatten(d_conv_2)\n",
    "        # 1st Fully connected layer\n",
    "        d_fc_W1 = weight(shape=[features, fc_1_size], layer_name='d_fc_W1')\n",
    "        d_fc_b1 = bias(shape=fc_1_size, layer_name='d_fc_b1')\n",
    "        fc_1 = fully_connected(flattened, d_fc_W1, d_fc_b1, use_relu=True)\n",
    "        # 2nd Fully connected layer\n",
    "        d_fc_W2 = weight(shape=[fc_1_size, fc_2_size], layer_name='d_fc_W2')\n",
    "        d_fc_b2 = bias(shape=fc_2_size, layer_name='d_fc_b2')\n",
    "        fc_2 = fully_connected(fc_1, d_fc_W2, d_fc_b2, use_relu=False)\n",
    "        return fc_2"
   ]
  },
  {
   "cell_type": "markdown",
   "metadata": {},
   "source": [
    "### Generator `(Deep Deconvolutional neural net)`"
   ]
  },
  {
   "cell_type": "code",
   "execution_count": 7,
   "metadata": {
    "collapsed": true
   },
   "outputs": [],
   "source": [
    "def generator(z, batch_size, z_dim, scale=56):\n",
    "    up_scale = scale * scale\n",
    "    # 1st Deconvolutional block\n",
    "    g_deconv_W1 = weight(shape=[z_dim, up_scale], layer_name='g_deconv_W1')\n",
    "    g_deconv_b1 = bias(shape=up_scale, layer_name='g_deconv_b1')\n",
    "    g_deconv_1 = tf.matmul(z, g_deconv_W1) + g_deconv_b1\n",
    "    g_deconv_1 = tf.reshape(g_deconv_1, [-1, scale, scale, img_channel])\n",
    "    g_deconv_1 = tf.contrib.layers.batch_norm(g_deconv_1, epsilon=1e-5, scope='bn_G1')\n",
    "    g_deconv_1 = tf.nn.relu(g_deconv_1)\n",
    "    # 2nd Deconvolutional block\n",
    "    g_deconv_W2 = weight(shape=[deconv_filter, deconv_filter, img_channel, z_dim//2], layer_name='g_deconv_W2')\n",
    "    g_deconv_b2 = bias(shape=z_dim//2, layer_name='g_deconv_b2')\n",
    "    g_deconv_2 = deconv_block(g_deconv_1, g_deconv_W2, g_deconv_b2, batch_norm='bn_G2')\n",
    "    g_deconv_2 = tf.image.resize_images(g_deconv_2, [scale, scale])\n",
    "    # 3rd Deconvolutional block\n",
    "    g_deconv_W3 = weight(shape=[deconv_filter, deconv_filter, z_dim//2, z_dim//4], layer_name='g_deconv_W3')\n",
    "    g_deconv_b3 = bias(shape=z_dim//4, layer_name='g_deconv_b3')\n",
    "    g_deconv_3 = deconv_block(g_deconv_2, g_deconv_W3, g_deconv_b3, batch_norm='bn_G3')\n",
    "    g_deconv_3 = tf.image.resize_images(g_deconv_3, [scale, scale])\n",
    "    # Final Deconvolutional block\n",
    "    g_deconv_W4 = weight(shape=[1, 1, z_dim//4, 1], layer_name='g_deconv_W4')\n",
    "    g_deconv_b4 = bias(shape=1, layer_name='g_deconv_b4')\n",
    "    g_deconv_4 = deconv_block(g_deconv_3, g_deconv_W4, g_deconv_b4, activation_fn=tf.nn.sigmoid)\n",
    "    \n",
    "    return g_deconv_4"
   ]
  },
  {
   "cell_type": "code",
   "execution_count": 8,
   "metadata": {
    "collapsed": true
   },
   "outputs": [],
   "source": [
    "z_dim = 100\n",
    "z_placeholder = tf.placeholder(tf.float32, [None, z_dim])"
   ]
  },
  {
   "cell_type": "code",
   "execution_count": 9,
   "metadata": {
    "collapsed": false
   },
   "outputs": [],
   "source": [
    "gen_img = generator(z_placeholder, 1, z_dim)\n",
    "z_batch = np.random.normal(0, 1, [1, z_dim])"
   ]
  },
  {
   "cell_type": "code",
   "execution_count": 10,
   "metadata": {
    "collapsed": false,
    "scrolled": false
   },
   "outputs": [
    {
     "name": "stdout",
     "output_type": "stream",
     "text": [
      "(1, 28, 28, 1)\n"
     ]
    },
    {
     "data": {
      "image/png": "[encoded data removed]",
      "text/plain": [
       "<matplotlib.figure.Figure at 0x120685208>"
      ]
     },
     "metadata": {},
     "output_type": "display_data"
    }
   ],
   "source": [
    "init = tf.global_variables_initializer()\n",
    "with tf.Session() as sess:\n",
    "    sess.run(init)\n",
    "    test_img = sess.run(gen_img, feed_dict={z_placeholder: z_batch})\n",
    "    print(test_img.shape)\n",
    "    plt.title('Test image')\n",
    "    plt.imshow(test_img.reshape([img_size, img_size]), cmap='Greys')"
   ]
  },
  {
   "cell_type": "code",
   "execution_count": 11,
   "metadata": {
    "collapsed": false,
    "scrolled": false
   },
   "outputs": [],
   "source": [
    "tf.reset_default_graph()\n",
    "\n",
    "z_placeholder = tf.placeholder(tf.float32, [None, z_dim], name='z_placeholder')\n",
    "x_placeholder = tf.placeholder(tf.float32, [None, img_size, img_size, img_channel], name='x_placeholder')\n",
    "\n",
    "# Genenrated img\n",
    "Gz = generator(z_placeholder, batch_size, z_dim)\n",
    "# Prob. for real img\n",
    "Dx = discriminator(x_placeholder)\n",
    "# Prob. for generated img\n",
    "Dg = discriminator(Gz, reuse=True)"
   ]
  },
  {
   "cell_type": "markdown",
   "metadata": {},
   "source": [
    "### Loss functions"
   ]
  },
  {
   "cell_type": "code",
   "execution_count": 12,
   "metadata": {
    "collapsed": true
   },
   "outputs": [],
   "source": [
    "# Discriminator loss\n",
    "d_loss_real = tf.nn.softmax_cross_entropy_with_logits(logits=Dx, labels=tf.ones_like(Dx))\n",
    "d_loss_fake = tf.nn.softmax_cross_entropy_with_logits(logits=Dg, labels=tf.zeros_like(Dg))\n",
    "# Generator loss\n",
    "g_loss = tf.nn.softmax_cross_entropy_with_logits(logits=Dg, labels=tf.ones_like(Dg))"
   ]
  },
  {
   "cell_type": "code",
   "execution_count": 13,
   "metadata": {
    "collapsed": true
   },
   "outputs": [],
   "source": [
    "# Discriminator\n",
    "d_loss_real = tf.reduce_mean(d_loss_real)\n",
    "d_loss_fake = tf.reduce_mean(d_loss_fake)\n",
    "# Generator\n",
    "g_loss = tf.reduce_mean(g_loss)"
   ]
  },
  {
   "cell_type": "markdown",
   "metadata": {},
   "source": [
    "### Retrieve Trainable Vars"
   ]
  },
  {
   "cell_type": "code",
   "execution_count": 14,
   "metadata": {
    "collapsed": false
   },
   "outputs": [
    {
     "name": "stdout",
     "output_type": "stream",
     "text": [
      "['d_conv_W1:0', 'd_conv_b1:0', 'd_conv_W2:0', 'd_conv_b2:0', 'd_fc_W1:0', 'd_fc_b1:0', 'd_fc_W2:0', 'd_fc_b2:0']\n",
      "['g_deconv_W1:0', 'g_deconv_b1:0', 'g_deconv_W2:0', 'g_deconv_b2:0', 'g_deconv_W3:0', 'g_deconv_b3:0', 'g_deconv_W4:0', 'g_deconv_b4:0']\n"
     ]
    }
   ],
   "source": [
    "t_vars = tf.trainable_variables()\n",
    "\n",
    "d_vars = [var for var in t_vars if 'd_' in var.name]\n",
    "g_vars = [var for var in t_vars if 'g_' in var.name]\n",
    "\n",
    "print([var.name for var in d_vars])\n",
    "print([var.name for var in g_vars])"
   ]
  },
  {
   "cell_type": "markdown",
   "metadata": {},
   "source": [
    "### Optimization"
   ]
  },
  {
   "cell_type": "code",
   "execution_count": 15,
   "metadata": {
    "collapsed": true
   },
   "outputs": [],
   "source": [
    "# Discriminator optimization\n",
    "d_opt_real = tf.train.AdamOptimizer(learning_rate=learning_rate).minimize(d_loss_real, var_list=d_vars)\n",
    "d_opt_fake = tf.train.AdamOptimizer(learning_rate=learning_rate).minimize(d_loss_fake, var_list=d_vars)\n",
    "# Generator optimization\n",
    "g_opt = tf.train.AdamOptimizer(learning_rate=learning_rate).minimize(g_loss, var_list=g_vars)"
   ]
  },
  {
   "cell_type": "markdown",
   "metadata": {},
   "source": [
    "## Tensorboard stuff"
   ]
  },
  {
   "cell_type": "code",
   "execution_count": null,
   "metadata": {
    "collapsed": false
   },
   "outputs": [],
   "source": []
  },
  {
   "cell_type": "code",
   "execution_count": null,
   "metadata": {
    "collapsed": true
   },
   "outputs": [],
   "source": []
  }
 ],
 "metadata": {
  "kernelspec": {
   "display_name": "Python 3",
   "language": "python",
   "name": "python3"
  },
  "language_info": {
   "codemirror_mode": {
    "name": "ipython",
    "version": 3
   },
   "file_extension": ".py",
   "mimetype": "text/x-python",
   "name": "python",
   "nbconvert_exporter": "python",
   "pygments_lexer": "ipython3",
   "version": "3.6.3"
  }
 },
 "nbformat": 4,
 "nbformat_minor": 2
}
