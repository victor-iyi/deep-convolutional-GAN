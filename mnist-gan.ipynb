{
 "cells": [
  {
   "cell_type": "markdown",
   "metadata": {},
   "source": [
    "# Deep Convolutional Generative Adversarial Network"
   ]
  },
  {
   "cell_type": "markdown",
   "metadata": {},
   "source": [
    "## Import dependencies"
   ]
  },
  {
   "cell_type": "code",
   "execution_count": 1,
   "metadata": {
    "collapsed": true
   },
   "outputs": [],
   "source": [
    "import tensorflow as tf\n",
    "import numpy as np"
   ]
  },
  {
   "cell_type": "code",
   "execution_count": 2,
   "metadata": {
    "collapsed": false
   },
   "outputs": [
    {
     "data": {
      "text/plain": [
       "'1.3.0'"
      ]
     },
     "execution_count": 2,
     "metadata": {},
     "output_type": "execute_result"
    }
   ],
   "source": [
    "tf.__version__"
   ]
  },
  {
   "cell_type": "code",
   "execution_count": 3,
   "metadata": {
    "collapsed": false
   },
   "outputs": [
    {
     "data": {
      "text/plain": [
       "'1.13.3'"
      ]
     },
     "execution_count": 3,
     "metadata": {},
     "output_type": "execute_result"
    }
   ],
   "source": [
    "np.__version__"
   ]
  },
  {
   "cell_type": "markdown",
   "metadata": {},
   "source": [
    "## Load in data"
   ]
  },
  {
   "cell_type": "code",
   "execution_count": 4,
   "metadata": {
    "collapsed": false
   },
   "outputs": [
    {
     "name": "stdout",
     "output_type": "stream",
     "text": [
      "Extracting data/MNIST/train-images-idx3-ubyte.gz\n",
      "Extracting data/MNIST/train-labels-idx1-ubyte.gz\n",
      "Extracting data/MNIST/t10k-images-idx3-ubyte.gz\n",
      "Extracting data/MNIST/t10k-labels-idx1-ubyte.gz\n"
     ]
    }
   ],
   "source": [
    "from tensorflow.examples.tutorials.mnist import input_data\n",
    "data = input_data.read_data_sets('data/MNIST/', one_hot=True)"
   ]
  },
  {
   "cell_type": "code",
   "execution_count": 6,
   "metadata": {
    "collapsed": false
   },
   "outputs": [
    {
     "name": "stdout",
     "output_type": "stream",
     "text": [
      "Training:   55,000\n",
      "Testing:    10,000\n",
      "Validation:  5,000\n"
     ]
    }
   ],
   "source": [
    "print('Training:   {:,}'.format(data.train.num_examples))\n",
    "print('Testing:    {:,}'.format(data.test.num_examples))\n",
    "print('Validation:  {:,}'.format(data.validation.num_examples))"
   ]
  },
  {
   "cell_type": "markdown",
   "metadata": {},
   "source": [
    "## Define hyperparameters"
   ]
  },
  {
   "cell_type": "code",
   "execution_count": 12,
   "metadata": {
    "collapsed": true
   },
   "outputs": [],
   "source": [
    "# Inputs\n",
    "image_size = 28\n",
    "image_channel = 1\n",
    "image_shape = (image_size, image_size, image_channel)\n",
    "image_size_flat = image_size * image_size * image_channel\n",
    "num_classes = 10\n",
    "\n",
    "# Network\n",
    "filter_size = 5\n",
    "hidden1_filter = 32\n",
    "hidden2_filter = 64\n",
    "fc1_size = 1024\n",
    "fc2_size = 1\n",
    "dropout = 0.8\n"
   ]
  },
  {
   "cell_type": "markdown",
   "metadata": {},
   "source": [
    "## Build the Network"
   ]
  },
  {
   "cell_type": "markdown",
   "metadata": {},
   "source": [
    "### Helper functions"
   ]
  },
  {
   "cell_type": "markdown",
   "metadata": {},
   "source": [
    "#### `weights` and `biases`"
   ]
  },
  {
   "cell_type": "code",
   "execution_count": 7,
   "metadata": {
    "collapsed": true
   },
   "outputs": [],
   "source": [
    "def weight(shape):\n",
    "    initial = tf.truncated_normal(shape=shape, mean=0, stddev=0.5)\n",
    "    return tf.Variable(initial, name='weight')\n",
    "\n",
    "def bias(shape):\n",
    "    initial = tf.zeros(shape=[shape])\n",
    "    return tf.Variable(initial, name='bias')"
   ]
  },
  {
   "cell_type": "markdown",
   "metadata": {},
   "source": [
    "#### `convolution` and `pooling` "
   ]
  },
  {
   "cell_type": "code",
   "execution_count": 8,
   "metadata": {
    "collapsed": true
   },
   "outputs": [],
   "source": [
    "def conv2d(X, W):\n",
    "    return tf.nn.conv2d(X, W, strides=[1, 1, 1, 1], padding='SAME')\n",
    "\n",
    "def max_pool(X):\n",
    "    return tf.nn.max_pool(X, ksize=[1, 2, 2, 1], strides=[1, 2, 2, 1], padding='SAME')"
   ]
  },
  {
   "cell_type": "markdown",
   "metadata": {},
   "source": [
    "#### `flatten` layer"
   ]
  },
  {
   "cell_type": "code",
   "execution_count": 9,
   "metadata": {
    "collapsed": true
   },
   "outputs": [],
   "source": [
    "def flatten(layer):\n",
    "    layer_shape = layer.get_shape()\n",
    "    num_features = np.array(layer_shape[1:4], dtype=int).prod()\n",
    "    layer_flat = tf.reshape(layer, [-1, num_features])\n",
    "    return layer_flat, num_features"
   ]
  },
  {
   "cell_type": "markdown",
   "metadata": {},
   "source": [
    "#### Layers"
   ]
  },
  {
   "cell_type": "code",
   "execution_count": 10,
   "metadata": {
    "collapsed": true
   },
   "outputs": [],
   "source": [
    "# convolutional layer\n",
    "def conv_layer(prev_layer, prev_filter, layer_filter, layer_name, use_pool=True):\n",
    "    with tf.name_scope(layer_name):\n",
    "        W = weight(shape=[filter_size, filter_size, prev_filter, layer_filter])\n",
    "        b = bias(shape=layer_filter)\n",
    "        layer = tf.nn.relu(conv2d(prev_layer, W) + b)\n",
    "        if use_pool:\n",
    "            layer = max_pool(layer)\n",
    "        return layer\n",
    "\n",
    "# fully connected layer\n",
    "def fc_layer(prev_layer, prev_size, layer_size, layer_name, use_relu=True, dropout=False):\n",
    "    with tf.name_scope(layer_name):\n",
    "        W = weight(shape=[prev_size, layer_size])\n",
    "        b = bias(shape=layer_size)\n",
    "        layer = tf.matmul(prev_layer, W) + b\n",
    "        if use_relu:\n",
    "            layer = tf.nn.relu(layer)\n",
    "        if dropout:\n",
    "            layer = tf.nn.dropout(layer, keep_prob)\n",
    "        return layer\n",
    "\n",
    "# Output layer\n",
    "def output_layer(fc_layer, fc_size, num_classes):\n",
    "    with tf.name_scope('output_layer'):\n",
    "        W = weight(shape=[fc_size, num_classes])\n",
    "        b = bias(shape=num_classes)\n",
    "        logits = tf.matmul(fc_layer, W) + b\n",
    "        y_pred = tf.nn.softmax(logits)\n",
    "        y_pred_true = tf.argmax(y_pred, axis=1)\n",
    "        return logits, y_pred_true"
   ]
  },
  {
   "cell_type": "markdown",
   "metadata": {},
   "source": [
    "#### Discrimitor"
   ]
  },
  {
   "cell_type": "code",
   "execution_count": null,
   "metadata": {
    "collapsed": true
   },
   "outputs": [],
   "source": [
    "def discriminator(X_image, reuse=False):\n",
    "    if reuse:\n",
    "        tf.get_variable_scope().reuse_variables()\n",
    "    \n",
    "    # Input layer => Hidden layer 1\n",
    "    hidden1 = conv_layer(X_image, image_channel, hidden1_filter, 'dis_hidden_1', use_pool=True)\n",
    "    # Hidden layer 1 => Hidden layer 2\n",
    "    hidden2 = conv_layer(hidden1, hidden1_filter, hidden2_filter, 'dis_hidden_2', use_pool=True)\n",
    "    # Flatten\n",
    "    hidden2_flat, hidden2_flat_filter = flatten(hidden2)\n",
    "    # Fully connected layer 1\n",
    "    fc1_layer = fc_layer(hidden2_flat, hidden2_flat_filter, fc1_size, 'dis_fc_1', use_relu=True, dropout=True)\n",
    "    fc2_layer = fc_layer(fc1_layer, fc1_size, fc2_size, 'dis_fc_2', use_relu=True, dropout=True)\n",
    "   \n",
    "    # Flattening for the fully connected layer\n",
    "    "
   ]
  }
 ],
 "metadata": {
  "kernelspec": {
   "display_name": "Python 3",
   "language": "python",
   "name": "python3"
  },
  "language_info": {
   "codemirror_mode": {
    "name": "ipython",
    "version": 3
   },
   "file_extension": ".py",
   "mimetype": "text/x-python",
   "name": "python",
   "nbconvert_exporter": "python",
   "pygments_lexer": "ipython3",
   "version": "3.6.2"
  }
 },
 "nbformat": 4,
 "nbformat_minor": 2
}
