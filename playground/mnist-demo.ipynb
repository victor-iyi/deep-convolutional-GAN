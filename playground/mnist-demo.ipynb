{
 "cells": [
  {
   "cell_type": "markdown",
   "metadata": {
    "deletable": true,
    "editable": true
   },
   "source": [
    "# `Generative Adversarial Network` [demo using MNIST]"
   ]
  },
  {
   "cell_type": "code",
   "execution_count": 1,
   "metadata": {
    "collapsed": true,
    "deletable": true,
    "editable": true
   },
   "outputs": [],
   "source": [
    "# importing dependencies\n",
    "import os\n",
    "import sys\n",
    "from datetime import datetime as dt\n",
    "\n",
    "import numpy as np\n",
    "import tensorflow as tf\n",
    "\n",
    "import matplotlib.pyplot as plt\n",
    "%matplotlib inline"
   ]
  },
  {
   "cell_type": "markdown",
   "metadata": {
    "deletable": true,
    "editable": true
   },
   "source": [
    "### Directories and files"
   ]
  },
  {
   "cell_type": "code",
   "execution_count": 2,
   "metadata": {
    "collapsed": true,
    "deletable": true,
    "editable": true
   },
   "outputs": [],
   "source": [
    "# dataset directory\n",
    "data_dir = '../datasets/MNIST/'\n",
    "# Pretrained, tesnorboardv verbose\n",
    "save_dir = '../saved/playground/mnist-demo'\n",
    "tensorboard_dir = os.path.join(save_dir, 'tensorboard')\n",
    "model_dir_g = os.path.join(save_dir, 'model/generator')\n",
    "model_dir_d = os.path.join(save_dir, 'model/discriminator')\n",
    "\n",
    "# model files and tensorboard log directory\n",
    "logdir = os.path.join(tensorboard_dir, 'log')\n",
    "model_g = os.path.join(model_dir_g, 'model.ckpt')\n",
    "model_d = os.path.join(model_dir_d, 'model.ckpt')"
   ]
  },
  {
   "cell_type": "markdown",
   "metadata": {
    "deletable": true,
    "editable": true
   },
   "source": [
    "### Loading dataset"
   ]
  },
  {
   "cell_type": "code",
   "execution_count": 3,
   "metadata": {
    "collapsed": false,
    "deletable": true,
    "editable": true
   },
   "outputs": [
    {
     "name": "stdout",
     "output_type": "stream",
     "text": [
      "Extracting ../datasets/MNIST/train-images-idx3-ubyte.gz\n",
      "Extracting ../datasets/MNIST/train-labels-idx1-ubyte.gz\n",
      "Extracting ../datasets/MNIST/t10k-images-idx3-ubyte.gz\n",
      "Extracting ../datasets/MNIST/t10k-labels-idx1-ubyte.gz\n"
     ]
    }
   ],
   "source": [
    "from tensorflow.examples.tutorials.mnist import input_data\n",
    "\n",
    "data = input_data.read_data_sets(data_dir, one_hot=True)"
   ]
  },
  {
   "cell_type": "markdown",
   "metadata": {
    "deletable": true,
    "editable": true
   },
   "source": [
    "### Hyperparameters"
   ]
  },
  {
   "cell_type": "code",
   "execution_count": 15,
   "metadata": {
    "collapsed": true,
    "deletable": true,
    "editable": true
   },
   "outputs": [],
   "source": [
    "# inputs\n",
    "img_size = 28\n",
    "img_channel = 1\n",
    "img_shape = (img_size, img_size)  # , img_channel)\n",
    "img_size_flat = img_size * img_size * img_channel\n",
    "num_classes = 10\n",
    "\n",
    "# Network\n",
    "strides = 2\n",
    "pool_size = 2\n",
    "filter_size = 5\n",
    "conv1_size = 32\n",
    "conv2_size = 64\n",
    "fc1_size = 128\n",
    "fc2_size = 1\n",
    "dropout_rate = .2\n",
    "\n",
    "# Training\n",
    "batch_size = 24\n",
    "save_step = 100\n",
    "log_step = 1000\n",
    "iterations = 10000\n",
    "learning_rate = 1e-2"
   ]
  },
  {
   "cell_type": "code",
   "execution_count": null,
   "metadata": {
    "collapsed": true
   },
   "outputs": [],
   "source": []
  },
  {
   "cell_type": "markdown",
   "metadata": {
    "deletable": true,
    "editable": true
   },
   "source": [
    "### Helpers"
   ]
  },
  {
   "cell_type": "code",
   "execution_count": 5,
   "metadata": {
    "collapsed": true,
    "deletable": true,
    "editable": true
   },
   "outputs": [],
   "source": [
    "# Plot images in grid !!!!!!!!!!! img_size = sqrt(size_flat/channel)!!!!!!!!!!!\n",
    "def plot_images(imgs, size=28, name=None, smooth=False, **kwargs):\n",
    "    grid = int(np.sqrt(len(imgs)))\n",
    "    # Create figure with sub-plots.\n",
    "    fig, axes = plt.subplots(grid, grid)\n",
    "    fig.subplots_adjust(hspace=0.3, wspace=0.3)\n",
    "    \n",
    "    for i, ax in enumerate(axes.flat):\n",
    "        # Interpolation type.\n",
    "        interpolation = 'spline16' if smooth else 'nearest'\n",
    "        # Plot image.\n",
    "        ax.imshow(imgs[i].reshape(img_shape), cmap='Greys', interpolation=interpolation, **kwargs)\n",
    "        # Remove ticks from the plot.\n",
    "        ax.set_xticks([])\n",
    "        ax.set_yticks([])\n",
    "    if name:\n",
    "        plt.suptitle(name)\n",
    "    plt.show()"
   ]
  },
  {
   "cell_type": "code",
   "execution_count": 6,
   "metadata": {
    "collapsed": false,
    "deletable": true,
    "editable": true
   },
   "outputs": [
    {
     "data": {
      "image/png": "[encoded data removed]",
      "text/plain": [
       "<matplotlib.figure.Figure at 0x116ed56d8>"
      ]
     },
     "metadata": {},
     "output_type": "display_data"
    }
   ],
   "source": [
    "plot_images(data.test.images[:9], name='Test set', smooth=True)"
   ]
  },
  {
   "cell_type": "markdown",
   "metadata": {
    "deletable": true,
    "editable": true
   },
   "source": [
    "### Discriminator"
   ]
  },
  {
   "cell_type": "code",
   "execution_count": 7,
   "metadata": {
    "collapsed": true,
    "deletable": true,
    "editable": true
   },
   "outputs": [],
   "source": [
    "def discriminator(image, reuse=None, is_training=False):\n",
    "    with tf.variable_scope('discriminator', reuse=reuse):\n",
    "        net = tf.reshape(image, shape=[-1, img_size, img_size, img_channel])\n",
    "        # 1st conv layer\n",
    "        net = tf.layers.conv2d(net, filters=filter_size, kernel_size=conv1_size)\n",
    "        net = tf.layers.max_pooling2d(net, pool_size=pool_size, strides=strides)\n",
    "        # 2nd conv layer\n",
    "        net = tf.layers.conv2d(net, filters=filter_size, kernel_size=conv2_size)\n",
    "        net = tf.layers.max_pooling2d(net, pool_size=pool_size, strides=strides)\n",
    "        # flatten\n",
    "        net = tf.contrib.layers.flatten(net)\n",
    "        # fully connected\n",
    "        net = tf.layers.dense(net, units=fc1_size, activation=tf.nn.relu)\n",
    "        net = tf.layers.dropout(net, rate=dropout_rate, training=is_training)\n",
    "        # output layer\n",
    "        output = tf.layers.dense(net, units=fc2_size)\n",
    "        return output"
   ]
  },
  {
   "cell_type": "markdown",
   "metadata": {
    "collapsed": true,
    "deletable": true,
    "editable": true
   },
   "source": [
    "### Generator"
   ]
  },
  {
   "cell_type": "code",
   "execution_count": null,
   "metadata": {
    "collapsed": true,
    "deletable": true,
    "editable": true
   },
   "outputs": [],
   "source": [
    "def generator(noise, reuse=None):\n",
    "    with tf.variable_scope('generator', reuse=reuse):\n",
    "        net = tf.layers.dense(noise, units=256, activation=tf.nn.tanh)\n",
    "        net = tf.contrib.layers.batch_norm(net)\n",
    "        net = tf.layers.dense(net, units=1024, activation=tf.nn.tanh)\n",
    "        net = tf.reshape(net, shape=[-1, 8, 8, 16])\n",
    "        net = tf.contrib.keras.layers.UpSampling2D"
   ]
  },
  {
   "cell_type": "code",
   "execution_count": null,
   "metadata": {
    "collapsed": true
   },
   "outputs": [],
   "source": []
  },
  {
   "cell_type": "code",
   "execution_count": null,
   "metadata": {
    "collapsed": true,
    "deletable": true,
    "editable": true
   },
   "outputs": [],
   "source": []
  }
 ],
 "metadata": {
  "kernelspec": {
   "display_name": "Python 3",
   "language": "python",
   "name": "python3"
  },
  "language_info": {
   "codemirror_mode": {
    "name": "ipython",
    "version": 3
   },
   "file_extension": ".py",
   "mimetype": "text/x-python",
   "name": "python",
   "nbconvert_exporter": "python",
   "pygments_lexer": "ipython3",
   "version": "3.6.3"
  }
 },
 "nbformat": 4,
 "nbformat_minor": 2
}
